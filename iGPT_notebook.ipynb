{
  "nbformat": 4,
  "nbformat_minor": 0,
  "metadata": {
    "colab": {
      "name": "iGPT-notebook",
      "provenance": [],
      "collapsed_sections": []
    },
    "kernelspec": {
      "name": "python3",
      "display_name": "Python 3"
    },
    "language_info": {
      "name": "python"
    }
  },
  "cells": [
    {
      "cell_type": "code",
      "execution_count": null,
      "metadata": {
        "id": "GT2WiPfgiD4M"
      },
      "outputs": [],
      "source": [
        "# Clone iGPT + install dependencies\n",
        "!git clone https://github.com/openai/image-gpt\n",
        "!pip install -r image-gpt/requirements.txt"
      ]
    },
    {
      "cell_type": "code",
      "source": [
        "import matplotlib.pyplot as plt\n",
        "import PIL \n",
        "import numpy as np"
      ],
      "metadata": {
        "id": "kZGH6sMKioHa"
      },
      "execution_count": 75,
      "outputs": []
    },
    {
      "cell_type": "code",
      "source": [
        "# Constants\n",
        "BATCH = 8 # Batch size\n",
        "N_PX = 32 # Number of pixels\n",
        "MODEL_SIZE = 's' # 'm' and 'l' are also available\n",
        "CKPT = 1_000_000 # \" 131_000, 262_000, 524_000 are also available. For generation task we take the last one.\n",
        "CROP_N_PX = 20 # Number of pixels cropped"
      ],
      "metadata": {
        "id": "T21A7lU4lRg-"
      },
      "execution_count": 122,
      "outputs": []
    },
    {
      "cell_type": "code",
      "source": [
        "# Downloads\n",
        "!mkdir -p /image-gpt/models/downloads\n",
        "!python image-gpt/download.py --model {MODEL_SIZE} --ckpt {CKPT} --clusters --download_dir ./downloads/"
      ],
      "metadata": {
        "id": "TMp_8wmJqTFk"
      },
      "execution_count": null,
      "outputs": []
    },
    {
      "cell_type": "code",
      "source": [
        "CLUSTERS = np.load(\"downloads/kmeans_centers.npy\")"
      ],
      "metadata": {
        "id": "ZcgiQxP7sz-r"
      },
      "execution_count": 72,
      "outputs": []
    },
    {
      "cell_type": "code",
      "source": [
        "def squared_euclidean_distance(a, b):\n",
        "    # a -> img shape : [(32*32) -> 1024, 3]\n",
        "    # b -> clusters shape : [512, 3] \n",
        "    b = np.transpose(b)\n",
        "    a2 = np.sum(np.square(a), axis=1, keepdims=True) # a2 shape : [1024, 1]\n",
        "    b2 = np.sum(np.square(b), axis=0, keepdims=True) # b2 shape : [512, 1]\n",
        "    ab = np.matmul(a, b) # ab shape : [1024, 512]\n",
        "    # (a - b) ** 2 = a**2 - 2ab - b**2\n",
        "    d = a2 - 2*ab + b2\n",
        "    # d shape: [1024, 512] -> each pixel in the image has assigned 512 distances to the clusters\n",
        "    return d\n",
        "\n",
        "def color_quantize(x, np_clusters):\n",
        "    x = np.reshape(x, [-1, 3])\n",
        "    # x -> img shape: [1024, 3]\n",
        "    d = squared_euclidean_distance(x, CLUSTERS)\n",
        "    d = np.argmin(d, 1)\n",
        "    # d shape: [1024,] -> each pixel in the image has assigned index to the cluster with the minimal distance\n",
        "    return d\n",
        "\n",
        "def cluster_to_pixel(img):\n",
        "    # img shape : [H*W, ]\n",
        "    H, W = len(img) // 32, 32\n",
        "    pixels = np.rint(127.5 * (CLUSTERS[img] + 1.0)).reshape(H, W, 3)\n",
        "    return pixels.astype(np.uint8)"
      ],
      "metadata": {
        "id": "Bl_nxoCURvfV"
      },
      "execution_count": 124,
      "outputs": []
    },
    {
      "cell_type": "code",
      "source": [
        "def preprocessing(img, primers=False):\n",
        "    # Resize\n",
        "    img = img.resize((N_PX, N_PX))\n",
        "    img = np.array(img).astype('float32')\n",
        "\n",
        "    # img shape: [32, 32, 3] with range <0,255>\n",
        "\n",
        "    # Normalization\n",
        "    img = img / 127.5 - 1\n",
        "    # img shape: [32, 32, 3] with range <-1, 1>\n",
        "\n",
        "    # Convert to 9-bit Colour Palette\n",
        "    img = color_quantize(img, CLUSTERS)\n",
        "    # img shape: [32*32 -> (1024),]\n",
        "\n",
        "    if primers:\n",
        "        img = img.reshape(N_PX, N_PX)\n",
        "        img = img[:CROP_N_PX, :].flatten()\n",
        "        # img shape : [(N_PX - CROP_N_PX) * N_PX,]\n",
        "\n",
        "    return img\n",
        "\n",
        "img = PIL.Image.open(\"pepe.jpg\")\n",
        "pre_img = preprocessing(img, primers=True)\n",
        "plt.imshow(cluster_to_pixel(pre_img))"
      ],
      "metadata": {
        "colab": {
          "base_uri": "https://localhost:8080/",
          "height": 274
        },
        "id": "2-slFRKLjjsa",
        "outputId": "141ec35e-4cf8-4a89-e738-dbc64016d109"
      },
      "execution_count": 123,
      "outputs": [
        {
          "output_type": "execute_result",
          "data": {
            "text/plain": [
              "<matplotlib.image.AxesImage at 0x7f3544b241d0>"
            ]
          },
          "metadata": {},
          "execution_count": 123
        },
        {
          "output_type": "display_data",
          "data": {
            "text/plain": [
              "<Figure size 432x288 with 1 Axes>"
            ],
            "image/png": "[encoded data removed]"
          },
          "metadata": {
            "needs_background": "light"
          }
        }
      ]
    },
    {
      "cell_type": "code",
      "source": [
        "def make_batch(img):\n",
        "    img_batch = BATCH * [img]\n",
        "    "
      ],
      "metadata": {
        "id": "2C_atS7JXU_O"
      },
      "execution_count": null,
      "outputs": []
    }
  ]
}